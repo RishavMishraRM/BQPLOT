{
 "cells": [
  {
   "cell_type": "code",
   "execution_count": 1,
   "id": "156d76ee",
   "metadata": {
    "ExecuteTime": {
     "end_time": "2022-03-01T18:09:20.841921Z",
     "start_time": "2022-03-01T18:09:20.828930Z"
    }
   },
   "outputs": [],
   "source": [
    "import warnings\n",
    "warnings.filterwarnings('ignore')"
   ]
  },
  {
   "cell_type": "code",
   "execution_count": 2,
   "id": "fbf0ab12",
   "metadata": {
    "ExecuteTime": {
     "end_time": "2022-03-01T18:09:29.905148Z",
     "start_time": "2022-03-01T18:09:20.846919Z"
    }
   },
   "outputs": [],
   "source": [
    "import numpy as np\n",
    "from bqplot import pyplot as plt"
   ]
  },
  {
   "cell_type": "code",
   "execution_count": 3,
   "id": "8b40c5f3",
   "metadata": {
    "ExecuteTime": {
     "end_time": "2022-03-01T18:09:29.937047Z",
     "start_time": "2022-03-01T18:09:29.910065Z"
    }
   },
   "outputs": [],
   "source": [
    "plt.figure(1, title=\"Line Chart\")\n",
    "np.random.seed(0)\n",
    "n = 200\n",
    "x = np.linspace(0.0, 10.0, n)\n",
    "y = np.cumsum(np.random.randn(n))"
   ]
  },
  {
   "cell_type": "code",
   "execution_count": 4,
   "id": "0ef6c384",
   "metadata": {
    "ExecuteTime": {
     "end_time": "2022-03-01T18:09:30.094211Z",
     "start_time": "2022-03-01T18:09:29.944045Z"
    }
   },
   "outputs": [
    {
     "data": {
      "application/vnd.jupyter.widget-view+json": {
       "model_id": "36bee528f30c41199e8c960b4637cf3d",
       "version_major": 2,
       "version_minor": 0
      },
      "text/plain": [
       "VBox(children=(Figure(axes=[Axis(scale=LinearScale()), Axis(orientation='vertical', scale=LinearScale())], fig…"
      ]
     },
     "metadata": {},
     "output_type": "display_data"
    }
   ],
   "source": [
    "plt.plot(x, y)\n",
    "plt.show()"
   ]
  }
 ],
 "metadata": {
  "kernelspec": {
   "display_name": "Python 3 (ipykernel)",
   "language": "python",
   "name": "python3"
  },
  "language_info": {
   "codemirror_mode": {
    "name": "ipython",
    "version": 3
   },
   "file_extension": ".py",
   "mimetype": "text/x-python",
   "name": "python",
   "nbconvert_exporter": "python",
   "pygments_lexer": "ipython3",
   "version": "3.9.7"
  },
  "toc": {
   "base_numbering": 1,
   "nav_menu": {},
   "number_sections": true,
   "sideBar": true,
   "skip_h1_title": false,
   "title_cell": "Table of Contents",
   "title_sidebar": "Contents",
   "toc_cell": false,
   "toc_position": {},
   "toc_section_display": true,
   "toc_window_display": false
  }
 },
 "nbformat": 4,
 "nbformat_minor": 5
}
